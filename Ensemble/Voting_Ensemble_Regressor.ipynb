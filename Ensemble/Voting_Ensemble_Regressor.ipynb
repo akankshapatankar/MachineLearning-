{
 "cells": [
  {
   "cell_type": "code",
   "execution_count": 1,
   "id": "77b6e6a6",
   "metadata": {},
   "outputs": [],
   "source": [
    "\n",
    "from sklearn.datasets import load_boston\n",
    "import numpy as np"
   ]
  },
  {
   "cell_type": "code",
   "execution_count": 4,
   "id": "88eb4dcb",
   "metadata": {},
   "outputs": [],
   "source": [
    "\n",
    "\n",
    "X,y = load_boston(return_X_y=True)\n"
   ]
  },
  {
   "cell_type": "code",
   "execution_count": 5,
   "id": "11b7038b",
   "metadata": {},
   "outputs": [],
   "source": [
    "\n",
    "from sklearn.linear_model import LinearRegression\n",
    "from sklearn.tree import DecisionTreeRegressor\n",
    "from sklearn.svm import SVR\n",
    "from sklearn.model_selection import cross_val_score"
   ]
  },
  {
   "cell_type": "code",
   "execution_count": 6,
   "id": "a6a5fe47",
   "metadata": {},
   "outputs": [],
   "source": [
    "\n",
    "lr = LinearRegression()\n",
    "dt = DecisionTreeRegressor()\n",
    "svr = SVR()\n"
   ]
  },
  {
   "cell_type": "code",
   "execution_count": 7,
   "id": "f30f3cde",
   "metadata": {},
   "outputs": [],
   "source": [
    "estimators = estimators = [('lr',lr),('dt',dt),('svr',svr)]\n"
   ]
  },
  {
   "cell_type": "code",
   "execution_count": 8,
   "id": "d6cb4e56",
   "metadata": {},
   "outputs": [
    {
     "name": "stdout",
     "output_type": "stream",
     "text": [
      "lr 0.2\n",
      "dt -0.04\n",
      "svr -0.41\n"
     ]
    }
   ],
   "source": [
    "for estimator in estimators:\n",
    "  scores = cross_val_score(estimator[1],X,y,scoring='r2',cv=10)\n",
    "  print(estimator[0],np.round(np.mean(scores),2))"
   ]
  },
  {
   "cell_type": "code",
   "execution_count": 9,
   "id": "2f961f53",
   "metadata": {},
   "outputs": [],
   "source": [
    "\n",
    "from sklearn.ensemble import VotingRegressor"
   ]
  },
  {
   "cell_type": "code",
   "execution_count": 10,
   "id": "62424f71",
   "metadata": {},
   "outputs": [
    {
     "name": "stdout",
     "output_type": "stream",
     "text": [
      "Voting Regressor 0.45\n"
     ]
    }
   ],
   "source": [
    "\n",
    "vr = VotingRegressor(estimators)\n",
    "scores = cross_val_score(vr,X,y,scoring='r2',cv=10)\n",
    "print(\"Voting Regressor\",np.round(np.mean(scores),2))\n",
    "     "
   ]
  },
  {
   "cell_type": "code",
   "execution_count": 11,
   "id": "6ea88ae5",
   "metadata": {},
   "outputs": [
    {
     "name": "stdout",
     "output_type": "stream",
     "text": [
      "For i=1,j=1,k=1 0.44\n",
      "For i=1,j=1,k=2 0.36\n",
      "For i=1,j=1,k=3 0.28\n",
      "For i=1,j=2,k=1 0.43\n",
      "For i=1,j=2,k=2 0.38\n",
      "For i=1,j=2,k=3 0.31\n",
      "For i=1,j=3,k=1 0.23\n",
      "For i=1,j=3,k=2 0.4\n",
      "For i=1,j=3,k=3 0.33\n",
      "For i=2,j=1,k=1 0.42\n",
      "For i=2,j=1,k=2 0.41\n",
      "For i=2,j=1,k=3 0.35\n",
      "For i=2,j=2,k=1 0.47\n",
      "For i=2,j=2,k=2 0.45\n",
      "For i=2,j=2,k=3 0.4\n",
      "For i=2,j=3,k=1 0.43\n",
      "For i=2,j=3,k=2 0.4\n",
      "For i=2,j=3,k=3 0.4\n",
      "For i=3,j=1,k=1 0.44\n",
      "For i=3,j=1,k=2 0.43\n",
      "For i=3,j=1,k=3 0.4\n",
      "For i=3,j=2,k=1 0.42\n",
      "For i=3,j=2,k=2 0.41\n",
      "For i=3,j=2,k=3 0.44\n",
      "For i=3,j=3,k=1 0.42\n",
      "For i=3,j=3,k=2 0.46\n",
      "For i=3,j=3,k=3 0.4\n"
     ]
    }
   ],
   "source": [
    "\n",
    "for i in range(1,4):\n",
    "  for j in range(1,4):\n",
    "    for k in range(1,4):\n",
    "      vr = VotingRegressor(estimators,weights=[i,j,k])\n",
    "      scores = cross_val_score(vr,X,y,scoring='r2',cv=10)\n",
    "      print(\"For i={},j={},k={}\".format(i,j,k),np.round(np.mean(scores),2))\n"
   ]
  },
  {
   "cell_type": "code",
   "execution_count": 12,
   "id": "cf8e9beb",
   "metadata": {},
   "outputs": [],
   "source": [
    "\n",
    "# using the same algorithm\n",
    "\n",
    "dt1 = DecisionTreeRegressor(max_depth=1)\n",
    "dt2 = DecisionTreeRegressor(max_depth=3)\n",
    "dt3 = DecisionTreeRegressor(max_depth=5)\n",
    "dt4 = DecisionTreeRegressor(max_depth=7)\n",
    "dt5 = DecisionTreeRegressor(max_depth=None)"
   ]
  },
  {
   "cell_type": "code",
   "execution_count": 13,
   "id": "f618d70b",
   "metadata": {},
   "outputs": [],
   "source": [
    "estimators = [('dt1',dt1),('dt2',dt2),('dt3',dt3),('dt4',dt4),('dt5',dt5)]"
   ]
  },
  {
   "cell_type": "code",
   "execution_count": 14,
   "id": "b8f29482",
   "metadata": {},
   "outputs": [
    {
     "name": "stdout",
     "output_type": "stream",
     "text": [
      "dt1 -0.85\n",
      "dt2 -0.21\n",
      "dt3 0.06\n",
      "dt4 -0.19\n",
      "dt5 -0.09\n"
     ]
    }
   ],
   "source": [
    "\n",
    "for estimator in estimators:\n",
    "  scores = cross_val_score(estimator[1],X,y,scoring='r2',cv=10)\n",
    "  print(estimator[0],np.round(np.mean(scores),2))\n",
    "     "
   ]
  },
  {
   "cell_type": "code",
   "execution_count": 15,
   "id": "853f5a46",
   "metadata": {},
   "outputs": [
    {
     "name": "stdout",
     "output_type": "stream",
     "text": [
      "Voting Regressor 0.16\n"
     ]
    }
   ],
   "source": [
    "\n",
    "vr = VotingRegressor(estimators)\n",
    "scores = cross_val_score(vr,X,y,scoring='r2',cv=10)\n",
    "print(\"Voting Regressor\",np.round(np.mean(scores),2))"
   ]
  },
  {
   "cell_type": "code",
   "execution_count": null,
   "id": "b931aca7",
   "metadata": {},
   "outputs": [],
   "source": []
  }
 ],
 "metadata": {
  "kernelspec": {
   "display_name": "Python 3 (ipykernel)",
   "language": "python",
   "name": "python3"
  },
  "language_info": {
   "codemirror_mode": {
    "name": "ipython",
    "version": 3
   },
   "file_extension": ".py",
   "mimetype": "text/x-python",
   "name": "python",
   "nbconvert_exporter": "python",
   "pygments_lexer": "ipython3",
   "version": "3.9.12"
  }
 },
 "nbformat": 4,
 "nbformat_minor": 5
}
